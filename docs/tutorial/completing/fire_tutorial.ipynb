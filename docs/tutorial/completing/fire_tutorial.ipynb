{
 "cells": [
  {
   "cell_type": "markdown",
   "metadata": {},
   "source": [
    "# Fire Spread Model - Complete Tutorial for Beginners\n",
    "\n",
    "## From Idea to Results in ABSESpy\n",
    "\n",
    "This comprehensive tutorial will guide you through building a **forest fire spread model** using ABSESpy. Even if you've never built an agent-based model before, you'll learn:\n",
    "\n",
    "- 🎯 How to design your model from scratch\n",
    "- 🌲 How to create spatial cells that represent trees\n",
    "- 🌍 How to set up grids and spatial interactions\n",
    "- 🔥 How to implement fire spread logic\n",
    "- 📊 How to visualize results\n",
    "- 🔬 How to run batch experiments\n",
    "- 📈 How to analyze the relationship between density and burn rate\n",
    "\n",
    "> **Model Source**: Based on the classic NetLogo Fire model ([ccl.northwestern.edu/netlogo/models/Fire](https://ccl.northwestern.edu/netlogo/models/Fire))\n",
    "\n",
    "---"
   ]
  },
  {
   "cell_type": "markdown",
   "metadata": {},
   "source": [
    "## Part 1: Understanding Our Goal\n",
    "\n",
    "### The Research Question\n",
    "\n",
    "We want to understand: **How does forest density affect wildfire spread?**\n",
    "\n",
    "**Hypothesis**: \n",
    "- 🌱 Sparse forests (low density) = fire spreads slowly, may die out\n",
    "- 🌳 Dense forests (high density) = fire spreads quickly, burns widely\n",
    "\n",
    "**Experimental Approach**:\n",
    "- Test multiple density values (0.1 to 0.9)\n",
    "- Run simulations with different initial conditions\n",
    "- Measure final burn rate as the outcome\n",
    "\n",
    "### What We're Building\n",
    "\n",
    "A **cellular automaton** model where:\n",
    "1. Each cell can contain **one tree** (or be empty)\n",
    "2. Trees have **states**: healthy, burning, or burned\n",
    "3. Fire spreads from burning trees to **neighbors**\n",
    "4. We **track** how much burns for different densities\n",
    "\n",
    "---\n",
    "\n",
    "**Let's start building! 🚀**"
   ]
  },
  {
   "cell_type": "markdown",
   "metadata": {},
   "source": [
    "## Part 2: Import ABSESpy"
   ]
  },
  {
   "cell_type": "markdown",
   "metadata": {},
   "source": [
    "### What Makes This Tutorial Beginner-Friendly?\n",
    "\n",
    "✅ **Step-by-step**: We build the model piece by piece  \n",
    "✅ **Clear explanations**: Every ABSESpy feature is explained  \n",
    "✅ **Copy-paste ready**: All code works out of the box  \n",
    "✅ **Visual learning**: See results as you go  \n",
    "✅ **Progressive complexity**: Start simple, add features  \n",
    "\n",
    "Let's begin! 🚀\n"
   ]
  },
  {
   "cell_type": "code",
   "execution_count": 1,
   "metadata": {},
   "outputs": [],
   "source": [
    "from enum import IntEnum\n",
    "from typing import Optional\n",
    "\n",
    "import matplotlib.pyplot as plt\n",
    "import numpy as np\n",
    "\n",
    "from abses import Experiment, MainModel, PatchCell, raster_attribute\n",
    "\n",
    "# ABSESpy is ready to use!"
   ]
  },
  {
   "cell_type": "markdown",
   "metadata": {},
   "source": [
    "## Part 3: Build the Tree Cell\n",
    "\n",
    "### Why use IntEnum?\n",
    "\n",
    "Instead of magic numbers (0, 1, 2, 3), we use `IntEnum` for:\n",
    "- ✅ **Clarity**: `Tree.State.BURNING` vs `2`\n",
    "- ✅ **IDE support**: Autocomplete helps you write code\n",
    "- ✅ **Type safety**: Fewer bugs!\n",
    "- ✅ **Pythonic**: Follows Python best practices"
   ]
  },
  {
   "cell_type": "code",
   "execution_count": 2,
   "metadata": {},
   "outputs": [],
   "source": [
    "class Tree(PatchCell):\n",
    "    \"\"\"\n",
    "    Tree cell representing a single location in the forest.\n",
    "    \n",
    "    Each tree can be in one of four states:\n",
    "    - EMPTY: No tree\n",
    "    - INTACT: Healthy tree\n",
    "    - BURNING: Currently on fire\n",
    "    - SCORCHED: Burned, cannot burn again\n",
    "    \"\"\"\n",
    "    \n",
    "    class State(IntEnum):\n",
    "        \"\"\"Tree states using IntEnum for clarity.\"\"\"\n",
    "        EMPTY = 0\n",
    "        INTACT = 1\n",
    "        BURNING = 2\n",
    "        SCORCHED = 3\n",
    "    \n",
    "    def __init__(self, *args, **kwargs):\n",
    "        super().__init__(*args, **kwargs)\n",
    "        self._state = self.State.EMPTY\n",
    "    \n",
    "    def step(self) -> None:\n",
    "        \"\"\"\n",
    "        Update tree state: spread fire to healthy neighbors.\n",
    "        \n",
    "        When a tree is burning:\n",
    "        1. Find all neighbors\n",
    "        2. Filter to healthy trees only\n",
    "        3. Randomly ignite them\n",
    "        4. Become scorched\n",
    "        \"\"\"\n",
    "        if self._state == self.State.BURNING:\n",
    "            # Get neighbors (non-diagonal only - Von Neumann)\n",
    "            neighbors = self.neighboring(moore=False, radius=1)\n",
    "            \n",
    "            # Filter to healthy trees only using dictionary syntax\n",
    "            healthy = neighbors.select({\"tree_state\": self.State.INTACT})\n",
    "            \n",
    "            # Randomly ignite them (ABSESpy batch operation!)\n",
    "            healthy.shuffle_do(\"ignite\")\n",
    "            \n",
    "            # This tree becomes scorched\n",
    "            self._state = self.State.SCORCHED\n",
    "    \n",
    "    def grow(self) -> None:\n",
    "        \"\"\"Grow a healthy tree on this cell.\"\"\"\n",
    "        self._state = self.State.INTACT\n",
    "    \n",
    "    def ignite(self) -> None:\n",
    "        \"\"\"Ignite this tree if it's healthy.\"\"\"\n",
    "        if self._state == self.State.INTACT:\n",
    "            self._state = self.State.BURNING\n",
    "    \n",
    "    @property\n",
    "    def state(self) -> int:\n",
    "        \"\"\"Get current state as integer.\"\"\"\n",
    "        return int(self._state)\n",
    "    \n",
    "    @raster_attribute\n",
    "    def tree_state(self) -> int:\n",
    "        \"\"\"\n",
    "        State for spatial visualization.\n",
    "        \n",
    "        The @raster_attribute decorator makes this available\n",
    "        for plotting: module.tree_state.plot()\n",
    "        \"\"\"\n",
    "        return self._state"
   ]
  },
  {
   "cell_type": "markdown",
   "metadata": {},
   "source": [
    "### Key ABSESpy Features in the Tree Class\n",
    "\n",
    "Let's understand what each ABSESpy feature does:\n",
    "\n",
    "| Feature | What It Does | Example |\n",
    "|---------|-------------|---------|\n",
    "| **`PatchCell`** | Base class for spatial cells | `class Tree(PatchCell)` |\n",
    "| **`neighboring()`** | Get adjacent cells | `self.neighboring(moore=False, radius=1)` |\n",
    "| **`select()`** | Filter cells by attribute | `neighbors.select({\"tree_state\": self.State.INTACT})` |\n",
    "| **`shuffle_do()`** | Randomly call method on all cells | `healthy.shuffle_do(\"ignite\")` |\n",
    "| **`@raster_attribute`** | Mark property for visualization | `@raster_attribute def tree_state()` |\n",
    "\n",
    "**Why these features matter:**\n",
    "- Old way: `[cell for cell in neighbors if cell.state == 1]` (3 lines)\n",
    "- New way: `neighbors.select({\"state\": 1})` (1 line, cleaner!)\n",
    "\n",
    "---\n"
   ]
  },
  {
   "cell_type": "markdown",
   "metadata": {},
   "source": [
    "## Part 4: Build the Forest Model\n",
    "\n",
    "Now we'll create the Forest class that:\n",
    "1. Creates a grid of trees\n",
    "2. Places trees randomly based on density\n",
    "3. Starts a fire\n",
    "4. Updates all trees each time step\n",
    "5. Tracks burn rate\n"
   ]
  },
  {
   "cell_type": "code",
   "execution_count": 3,
   "metadata": {},
   "outputs": [],
   "source": [
    "class Forest(MainModel):\n",
    "    \"\"\"\n",
    "    Forest fire spread simulation model.\n",
    "    \n",
    "    This is the main model that manages:\n",
    "    - Creating the spatial grid\n",
    "    - Placing trees randomly\n",
    "    - Starting the fire\n",
    "    - Running the simulation\n",
    "    - Tracking results\n",
    "    \"\"\"\n",
    "    \n",
    "    def initialize(self) -> None:\n",
    "        \"\"\"Create the forest grid and place trees.\"\"\"\n",
    "        # Create spatial grid with Tree cells\n",
    "        self.nature.create_module(\n",
    "            name=\"forest\",\n",
    "            shape=self.params.shape,  # e.g., (100, 100)\n",
    "            cell_cls=Tree,  # Use Tree class for each cell\n",
    "            major_layer=True,  # This is the main spatial layer\n",
    "        )\n",
    "        \n",
    "        # Randomly select cells for trees\n",
    "        chosen_patches = self.nature.forest.random.choice(\n",
    "            size=self.num_trees,  # Number of trees\n",
    "            replace=False  # Each cell only once\n",
    "        )\n",
    "        \n",
    "        # Grow trees on selected patches\n",
    "        chosen_patches.shuffle_do(\"grow\")\n",
    "    \n",
    "    def setup(self) -> None:\n",
    "        \"\"\"Set initial conditions - ignite leftmost column.\"\"\"\n",
    "        # Array indexing: grid[:, 0] = leftmost column\n",
    "        # Returns ActorsList automatically!\n",
    "        self.nature.forest[:, 0].shuffle_do(\"ignite\")\n",
    "    \n",
    "    def step(self) -> None:\n",
    "        \"\"\"Update forest for one time step.\"\"\"\n",
    "        # Update all cells using batch operation\n",
    "        self.nature.cells_lst.shuffle_do(\"step\")\n",
    "    \n",
    "    @property\n",
    "    def burned_rate(self) -> float:\n",
    "        \"\"\"Calculate proportion of burned trees.\"\"\"\n",
    "        # Select all scorched trees\n",
    "        burned_trees = self.nature.select({\"tree_state\": Tree.State.SCORCHED})\n",
    "        \n",
    "        # Calculate ratio\n",
    "        return len(burned_trees) / self.num_trees if self.num_trees > 0 else 0.0\n",
    "    \n",
    "    @property\n",
    "    def num_trees(self) -> int:\n",
    "        \"\"\"Calculate number of trees based on density.\"\"\"\n",
    "        shape = self.params.shape\n",
    "        return int(shape[0] * shape[1] * self.params.density)\n",
    "    \n",
    "    def plot_state(self) -> None:\n",
    "        \"\"\"Plot the current forest state.\"\"\"\n",
    "        color_map = {\n",
    "            Tree.State.EMPTY: \"black\",\n",
    "            Tree.State.INTACT: \"green\",\n",
    "            Tree.State.BURNING: \"orange\",\n",
    "            Tree.State.SCORCHED: \"red\",\n",
    "        }\n",
    "        \n",
    "        # Dynamic plotting API - just call .plot()!\n",
    "        self.nature.tree_state.plot(cmap=color_map, title=\"Forest Fire State\")\n",
    "        plt.show()\n"
   ]
  },
  {
   "cell_type": "markdown",
   "metadata": {},
   "source": [
    "### Key ABSESpy Features in the Forest Model\n",
    "\n",
    "| Feature | What It Does | Why It's Better |\n",
    "|---------|-------------|-----------------|\n",
    "| **`create_module()`** | Create spatial grid in one line | No manual grid setup |\n",
    "| **`random.choice()`** | Randomly select cells | Built-in randomness management |\n",
    "| **`grid[:, 0]`** | Array indexing for cells | Natural numpy-like syntax |\n",
    "| **`shuffle_do()`** | Randomly execute methods | Realistic fire spread |\n",
    "| **`self.nature.select()`** | Filter cells by attribute | Clean dictionary syntax |\n",
    "| **`.tree_state.plot()`** | Plot spatial data | One line visualization! |\n",
    "\n",
    "---\n",
    "\n",
    "## Part 5: Test Your Model\n",
    "\n",
    "Let's run a simple simulation to see if everything works!\n",
    "\n",
    "### Creating the Configuration\n",
    "\n",
    "For this tutorial, we use a simple **dictionary** for configuration. This makes the tutorial:\n",
    "- ✅ **Self-contained**: No external files needed\n",
    "- ✅ **Easy to understand**: All settings visible in one place\n",
    "- ✅ **Portable**: Works anywhere ABSESpy is installed\n",
    "\n",
    "> **Note**: In production, you can use Hydra with YAML files for more complex configurations (see the [fire_spread example](../../../examples/fire_spread/)).\n"
   ]
  },
  {
   "cell_type": "code",
   "execution_count": 4,
   "metadata": {},
   "outputs": [],
   "source": [
    "# Create a simple configuration (as dictionary)\n",
    "cfg = {\n",
    "    \"model\": {\n",
    "        \"shape\": [100, 100],  # Grid size\n",
    "        \"density\": 0.7  # 70% of cells have trees\n",
    "    },\n",
    "    \"time\": {\n",
    "        \"end\": 50  # Run for 50 time steps\n",
    "    },\n",
    "    \"reports\": {\n",
    "        \"final\": {\n",
    "            \"burned_rate\": \"burned_rate\"  # Collect burn rate\n",
    "        }\n",
    "    }\n",
    "}\n",
    "\n",
    "# Configuration is ready to use\n"
   ]
  },
  {
   "cell_type": "code",
   "execution_count": 5,
   "metadata": {},
   "outputs": [
    {
     "name": "stderr",
     "output_type": "stream",
     "text": [
      "\u001b[32m2025-10-27 13:29:05.340\u001b[0m | \u001b[1mINFO    \u001b[0m | \u001b[36mabses.space.patch\u001b[0m:\u001b[36m__init__\u001b[0m:\u001b[36m275\u001b[0m - \u001b[1mInitializing a new Model Layer...\u001b[0m\n"
     ]
    }
   ],
   "source": [
    "# Create and run model\n",
    "model = Forest(parameters=cfg)\n",
    "\n",
    "# Model is ready! (info will display automatically in notebook)\n"
   ]
  },
  {
   "cell_type": "code",
   "execution_count": 6,
   "metadata": {},
   "outputs": [
    {
     "data": {
      "image/png": "[encoded data removed]",
      "text/plain": [
       "<Figure size 1000x800 with 2 Axes>"
      ]
     },
     "metadata": {},
     "output_type": "display_data"
    }
   ],
   "source": [
    "# Visualize initial state\n",
    "model.plot_state()\n"
   ]
  },
  {
   "cell_type": "markdown",
   "metadata": {},
   "source": [
    "### 💡 Understanding the Code\n",
    "\n",
    "**In the Tree class:**\n",
    "- `self.neighboring()` → Gets adjacent cells\n",
    "- `neighbors.select({...})` → Filters by attribute (dictionary!)\n",
    "- `.shuffle_do(\"ignite\")` → Randomly calls method (batch operation!)\n",
    "\n",
    "**In the Forest class:**\n",
    "- `create_module()` → Creates spatial grid\n",
    "- `grid[:, 0]` → Array indexing (selects leftmost column)\n",
    "- `shuffle_do(\"step\")` → Update all cells randomly\n",
    "- `select({...})` → Count burned trees\n",
    "\n",
    "**This is all ABSESpy!** No manual loops or complex code. 🎉\n"
   ]
  },
  {
   "cell_type": "code",
   "execution_count": 7,
   "metadata": {},
   "outputs": [
    {
     "data": {
      "image/png": "[encoded data removed]",
      "text/plain": [
       "<Figure size 1000x800 with 2 Axes>"
      ]
     },
     "metadata": {},
     "output_type": "display_data"
    },
    {
     "data": {
      "text/plain": [
       "'Final burn rate: 82.41% (5769/7000 trees)'"
      ]
     },
     "execution_count": 7,
     "metadata": {},
     "output_type": "execute_result"
    }
   ],
   "source": [
    "# Run the simulation\n",
    "model.run_model()\n",
    "\n",
    "# Plot final state\n",
    "model.plot_state()\n",
    "\n",
    "# Show results (displays automatically in notebook)\n",
    "f\"Final burn rate: {model.burned_rate:.2%} ({model.burned_rate * model.num_trees:.0f}/{model.num_trees} trees)\"\n"
   ]
  },
  {
   "cell_type": "markdown",
   "metadata": {},
   "source": [
    "## Part 6: Batch Experiments (The Easy Way!)\n",
    "\n",
    "Running multiple simulations manually is tedious. ABSESpy's `Experiment` class makes this **incredibly easy**:\n"
   ]
  },
  {
   "cell_type": "code",
   "execution_count": 8,
   "metadata": {},
   "outputs": [
    {
     "data": {
      "application/vnd.jupyter.widget-view+json": {
       "model_id": "99dfb483dced4a8bb0ee8ee8d74b54a7",
       "version_major": 2,
       "version_minor": 0
      },
      "text/plain": [
       "9 jobs (repeats 3 times each).:   0%|          | 0/9 [00:00<?, ?it/s]"
      ]
     },
     "metadata": {},
     "output_type": "display_data"
    },
    {
     "name": "stderr",
     "output_type": "stream",
     "text": [
      "2025-10-27 13:29:12.258 | INFO     | abses.space.patch:__init__:275 - Initializing a new Model Layer...\n",
      "2025-10-27 13:29:12.260 | INFO     | abses.space.patch:__init__:275 - Initializing a new Model Layer...\n",
      "2025-10-27 13:29:13.277 | INFO     | abses.space.patch:__init__:275 - Initializing a new Model Layer...\n",
      "2025-10-27 13:29:14.310 | INFO     | abses.space.patch:__init__:275 - Initializing a new Model Layer...\n",
      "2025-10-27 13:29:14.316 | INFO     | abses.space.patch:__init__:275 - Initializing a new Model Layer...\n",
      "2025-10-27 13:29:15.652 | INFO     | abses.space.patch:__init__:275 - Initializing a new Model Layer...\n",
      "2025-10-27 13:29:16.976 | INFO     | abses.space.patch:__init__:275 - Initializing a new Model Layer...\n",
      "2025-10-27 13:29:16.977 | INFO     | abses.space.patch:__init__:275 - Initializing a new Model Layer...\n",
      "2025-10-27 13:29:18.731 | INFO     | abses.space.patch:__init__:275 - Initializing a new Model Layer...\n",
      "2025-10-27 13:29:20.583 | INFO     | abses.space.patch:__init__:275 - Initializing a new Model Layer...\n",
      "2025-10-27 13:29:20.594 | INFO     | abses.space.patch:__init__:275 - Initializing a new Model Layer...\n",
      "2025-10-27 13:29:22.647 | INFO     | abses.space.patch:__init__:275 - Initializing a new Model Layer...\n",
      "2025-10-27 13:29:24.807 | INFO     | abses.space.patch:__init__:275 - Initializing a new Model Layer...\n",
      "2025-10-27 13:29:24.898 | INFO     | abses.space.patch:__init__:275 - Initializing a new Model Layer...\n",
      "2025-10-27 13:29:27.479 | INFO     | abses.space.patch:__init__:275 - Initializing a new Model Layer...\n",
      "2025-10-27 13:29:30.022 | INFO     | abses.space.patch:__init__:275 - Initializing a new Model Layer...\n",
      "2025-10-27 13:29:30.025 | INFO     | abses.space.patch:__init__:275 - Initializing a new Model Layer...\n",
      "2025-10-27 13:29:33.317 | INFO     | abses.space.patch:__init__:275 - Initializing a new Model Layer...\n",
      "2025-10-27 13:29:36.380 | INFO     | abses.space.patch:__init__:275 - Initializing a new Model Layer...\n",
      "2025-10-27 13:29:36.509 | INFO     | abses.space.patch:__init__:275 - Initializing a new Model Layer...\n",
      "2025-10-27 13:29:40.606 | INFO     | abses.space.patch:__init__:275 - Initializing a new Model Layer...\n",
      "2025-10-27 13:29:44.610 | INFO     | abses.space.patch:__init__:275 - Initializing a new Model Layer...\n",
      "2025-10-27 13:29:44.725 | INFO     | abses.space.patch:__init__:275 - Initializing a new Model Layer...\n",
      "2025-10-27 13:29:49.326 | INFO     | abses.space.patch:__init__:275 - Initializing a new Model Layer...\n",
      "2025-10-27 13:29:53.768 | INFO     | abses.space.patch:__init__:275 - Initializing a new Model Layer...\n",
      "2025-10-27 13:29:53.769 | INFO     | abses.space.patch:__init__:275 - Initializing a new Model Layer...\n",
      "2025-10-27 13:29:58.887 | INFO     | abses.space.patch:__init__:275 - Initializing a new Model Layer...\n"
     ]
    }
   ],
   "source": [
    "# Test multiple density values\n",
    "densities = [0.1, 0.2, 0.3, 0.4, 0.5, 0.6, 0.7, 0.8, 0.9]\n",
    "\n",
    "# Create experiment\n",
    "exp = Experiment.new(Forest, cfg=cfg, seed=42)\n",
    "\n",
    "# Run batch experiments\n",
    "exp.batch_run(\n",
    "    overrides={\"model.density\": densities},\n",
    "    repeats=3,  # Each density 3 times\n",
    "    parallels=2,  # Use 2 parallel processes\n",
    ")\n"
   ]
  },
  {
   "cell_type": "markdown",
   "metadata": {},
   "source": [
    "### Analyze Results\n",
    "\n",
    "Let's look at the results:\n"
   ]
  },
  {
   "cell_type": "code",
   "execution_count": 9,
   "metadata": {},
   "outputs": [
    {
     "data": {
      "text/plain": [
       "'Total: 27 runs, 9 density values, 3 repeats each'"
      ]
     },
     "execution_count": 9,
     "metadata": {},
     "output_type": "execute_result"
    }
   ],
   "source": [
    "# Get all results as DataFrame\n",
    "results = exp.summary()\n",
    "\n",
    "# DataFrame displays automatically in notebook\n",
    "results.head()\n",
    "\n",
    "# Show summary\n",
    "f\"Total: {len(results)} runs, {results['model.density'].nunique()} density values, {len(results) // results['model.density'].nunique()} repeats each\"\n"
   ]
  },
  {
   "cell_type": "code",
   "execution_count": 10,
   "metadata": {},
   "outputs": [
    {
     "data": {
      "text/html": [
       "<div>\n",
       "<style scoped>\n",
       "    .dataframe tbody tr th:only-of-type {\n",
       "        vertical-align: middle;\n",
       "    }\n",
       "\n",
       "    .dataframe tbody tr th {\n",
       "        vertical-align: top;\n",
       "    }\n",
       "\n",
       "    .dataframe thead th {\n",
       "        text-align: right;\n",
       "    }\n",
       "</style>\n",
       "<table border=\"1\" class=\"dataframe\">\n",
       "  <thead>\n",
       "    <tr style=\"text-align: right;\">\n",
       "      <th></th>\n",
       "      <th>mean</th>\n",
       "      <th>std</th>\n",
       "    </tr>\n",
       "    <tr>\n",
       "      <th>model.density</th>\n",
       "      <th></th>\n",
       "      <th></th>\n",
       "    </tr>\n",
       "  </thead>\n",
       "  <tbody>\n",
       "    <tr>\n",
       "      <th>0.1</th>\n",
       "      <td>0.0130</td>\n",
       "      <td>0.0020</td>\n",
       "    </tr>\n",
       "    <tr>\n",
       "      <th>0.2</th>\n",
       "      <td>0.0153</td>\n",
       "      <td>0.0033</td>\n",
       "    </tr>\n",
       "    <tr>\n",
       "      <th>0.3</th>\n",
       "      <td>0.0194</td>\n",
       "      <td>0.0051</td>\n",
       "    </tr>\n",
       "    <tr>\n",
       "      <th>0.4</th>\n",
       "      <td>0.0272</td>\n",
       "      <td>0.0040</td>\n",
       "    </tr>\n",
       "    <tr>\n",
       "      <th>0.5</th>\n",
       "      <td>0.0564</td>\n",
       "      <td>0.0052</td>\n",
       "    </tr>\n",
       "    <tr>\n",
       "      <th>0.6</th>\n",
       "      <td>0.3862</td>\n",
       "      <td>0.0346</td>\n",
       "    </tr>\n",
       "    <tr>\n",
       "      <th>0.7</th>\n",
       "      <td>0.8924</td>\n",
       "      <td>0.0031</td>\n",
       "    </tr>\n",
       "    <tr>\n",
       "      <th>0.8</th>\n",
       "      <td>0.9980</td>\n",
       "      <td>0.0009</td>\n",
       "    </tr>\n",
       "    <tr>\n",
       "      <th>0.9</th>\n",
       "      <td>0.9999</td>\n",
       "      <td>0.0001</td>\n",
       "    </tr>\n",
       "  </tbody>\n",
       "</table>\n",
       "</div>"
      ],
      "text/plain": [
       "                 mean     std\n",
       "model.density                \n",
       "0.1            0.0130  0.0020\n",
       "0.2            0.0153  0.0033\n",
       "0.3            0.0194  0.0051\n",
       "0.4            0.0272  0.0040\n",
       "0.5            0.0564  0.0052\n",
       "0.6            0.3862  0.0346\n",
       "0.7            0.8924  0.0031\n",
       "0.8            0.9980  0.0009\n",
       "0.9            0.9999  0.0001"
      ]
     },
     "execution_count": 10,
     "metadata": {},
     "output_type": "execute_result"
    }
   ],
   "source": [
    "# Calculate statistics\n",
    "import pandas as pd\n",
    "\n",
    "summary = results.groupby(\"model.density\")[\"burned_rate\"].agg([\"mean\", \"std\"])\n",
    "summary.round(4)\n"
   ]
  },
  {
   "cell_type": "code",
   "execution_count": 11,
   "metadata": {},
   "outputs": [
    {
     "data": {
      "image/png": "[encoded data removed]",
      "text/plain": [
       "<Figure size 1000x600 with 1 Axes>"
      ]
     },
     "metadata": {},
     "output_type": "display_data"
    },
    {
     "data": {
      "text/plain": [
       "'Key Finding: Peak burn rate at density 0.9 = 99.99%'"
      ]
     },
     "execution_count": 11,
     "metadata": {},
     "output_type": "execute_result"
    }
   ],
   "source": [
    "# Visualize results with seaborn\n",
    "import seaborn as sns\n",
    "\n",
    "fig, ax = plt.subplots(figsize=(10, 6))\n",
    "\n",
    "sns.lineplot(\n",
    "    x=\"model.density\",\n",
    "    y=\"burned_rate\",\n",
    "    data=results,\n",
    "    marker=\"o\",\n",
    "    linewidth=2,\n",
    "    markersize=8,\n",
    "    ax=ax\n",
    ")\n",
    "\n",
    "ax.set_xlabel(\"Forest Density\", fontsize=12, fontweight=\"bold\")\n",
    "ax.set_ylabel(\"Final Burn Rate (%)\", fontsize=12, fontweight=\"bold\")\n",
    "ax.set_title(\"How Forest Density Affects Fire Spread\", fontsize=14, fontweight=\"bold\")\n",
    "ax.grid(True, alpha=0.3)\n",
    "\n",
    "plt.tight_layout()\n",
    "plt.show()\n",
    "\n",
    "# Find peak\n",
    "max_burn_idx = summary[\"mean\"].idxmax()\n",
    "max_burn_val = summary[\"mean\"].max()\n",
    "f\"Key Finding: Peak burn rate at density {max_burn_idx:.1f} = {max_burn_val:.2%}\"\n"
   ]
  },
  {
   "cell_type": "markdown",
   "metadata": {},
   "source": [
    "## Part 7: Understanding ABSESpy vs Mesa/NetLogo\n",
    "\n",
    "### Why ABSESpy Makes This Easier\n",
    "\n",
    "Compare the code you just wrote with traditional approaches:\n"
   ]
  },
  {
   "cell_type": "markdown",
   "metadata": {},
   "source": [
    "### 📝 Optional: Using YAML Configuration\n",
    "\n",
    "For production models, you can use Hydra with YAML files:\n",
    "\n",
    "```python\n",
    "import hydra\n",
    "from omegaconf import DictConfig\n",
    "\n",
    "# Load from config.yaml file\n",
    "with hydra.initialize(config_path=\".\", version_base=None):\n",
    "    cfg = hydra.compose(config_name=\"config\")\n",
    "\n",
    "# Use it the same way\n",
    "model = Forest(parameters=cfg)\n",
    "```\n",
    "\n",
    "**Benefits of YAML configuration:**\n",
    "- ✅ Separate configuration from code\n",
    "- ✅ Easy to update parameters without changing code\n",
    "- ✅ Command-line parameter overrides: `python model.py model.density=0.8`\n",
    "- ✅ Hierarchical configuration structure\n",
    "\n",
    "**For this tutorial**: We use dictionaries for simplicity and portability!\n"
   ]
  },
  {
   "cell_type": "markdown",
   "metadata": {},
   "source": [
    "| Task | ABSESpy | Pure Mesa | NetLogo |\n",
    "|------|---------|-----------|---------|\n",
    "| **Select healthy neighbors** | `neighbors.select({\"tree_state\": 1})` | `[cell for cell in neighbors if cell.state == 1]` | `patches with [state = 1]` |\n",
    "| **Randomly ignite** | `healthy.shuffle_do(\"ignite\")` | Manual shuffle + loop | `ask patches [...]` |\n",
    "| **Get left column** | `grid[:, 0]` | Manual slicing | Not easy |\n",
    "| **Plot spatial data** | `module.tree_state.plot()` | 15+ lines matplotlib | Export + process |\n",
    "| **Batch experiments** | 3 lines! | 30+ lines | GUI only |\n",
    "| **Code for full model** | ~180 lines | ~250 lines | ~150 lines (limited) |\n",
    "\n",
    "### The Efficiency Gain\n",
    "\n",
    "```python\n",
    "# ✅ ABSESpy: Full experiment\n",
    "exp = Experiment.new(Forest, cfg)\n",
    "exp.batch_run(overrides={\"model.density\": densities}, repeats=3)\n",
    "results = exp.summary()\n",
    "\n",
    "# Development time: 10 minutes ⏱️\n",
    "```\n",
    "\n",
    "```python\n",
    "# ❌ Mesa: Same experiment\n",
    "results = []\n",
    "for density in densities:\n",
    "    for repeat in range(3):\n",
    "        model = Forest(density=density)\n",
    "        for _ in range(50):\n",
    "            model.step()\n",
    "        results.append({\"density\": density, \"burn_rate\": model.burn_rate})\n",
    "# Manual save, visualize, etc...\n",
    "\n",
    "# Development time: 2+ hours ⏱️\n",
    "```\n",
    "\n",
    "**Result**: ABSESpy saves ~2 hours of coding! 🚀\n"
   ]
  },
  {
   "cell_type": "markdown",
   "metadata": {},
   "source": [
    "## Summary: What You've Built\n",
    "\n",
    "### ✅ Key Learnings\n",
    "\n",
    "1. **State Management**: Using `IntEnum` for clarity\n",
    "   - `Tree.State.BURNING` vs magic number `2`\n",
    "   - IDE support and type safety\n",
    "\n",
    "2. **Spatial Operations**: ABSESpy's spatial toolkit\n",
    "   - `neighboring()` for neighbor finding\n",
    "   - `select()` for filtering with dictionary syntax\n",
    "   - `shuffle_do()` for realistic batch operations\n",
    "\n",
    "3. **Grid Management**: Natural array syntax\n",
    "   - `grid[:, 0]` for column selection\n",
    "   - Automatic ActorsList creation\n",
    "\n",
    "4. **Visualization**: Dynamic plotting API\n",
    "   - `module.attr.plot()` for one-line plotting\n",
    "   - Custom colormaps supported\n",
    "\n",
    "5. **Batch Experiments**: Built-in experiment management\n",
    "   - Parameter sweeps in 3 lines\n",
    "   - Automatic parallelization\n",
    "   - Progress bars and error handling\n",
    "\n",
    "### 🎯 Your Next Steps\n",
    "\n",
    "**Ideas for extension:**\n",
    "- Add wind direction (fire spreads faster one way)\n",
    "- Different tree types (burn rates vary)\n",
    "- Firefighters (agents that extinguish fires)\n",
    "- Weather effects (random wind changes)\n",
    "- Moisture levels (wet trees resist burning)\n",
    "\n",
    "**Build your own model:**\n",
    "1. Define your research question\n",
    "2. Identify key components (cells? agents?)\n",
    "3. Implement basic behavior\n",
    "4. Test with simple scenarios\n",
    "5. Add complexity gradually\n",
    "\n",
    "**Remember**: Start simple, use ABSESpy features, iterate! 🚀\n",
    "\n",
    "---\n",
    "\n",
    "### 📚 Resources\n",
    "\n",
    "- 📖 [Full Documentation](../api/api.md)\n",
    "- 📝 [Example Gallery](../examples/gallery.md)\n",
    "- 💻 [Quick Start](../../examples/fire_spread/fire_quick_start.ipynb)\n",
    "- 🔧 [Installation Guide](../home/Installation.md)\n",
    "- 💬 [GitHub Issues](https://github.com/SongshGeoLab/ABSESpy/issues)\n",
    "\n",
    "---\n",
    "\n",
    "**Congratulations! You've built a complete agent-based model! 🎉**\n",
    "\n",
    "*Happy modeling with ABSESpy!*\n"
   ]
  }
 ],
 "metadata": {
  "kernelspec": {
   "display_name": ".venv",
   "language": "python",
   "name": "python3"
  },
  "language_info": {
   "codemirror_mode": {
    "name": "ipython",
    "version": 3
   },
   "file_extension": ".py",
   "mimetype": "text/x-python",
   "name": "python",
   "nbconvert_exporter": "python",
   "pygments_lexer": "ipython3",
   "version": "3.11.14"
  }
 },
 "nbformat": 4,
 "nbformat_minor": 2
}
