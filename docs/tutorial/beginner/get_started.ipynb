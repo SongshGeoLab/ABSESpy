{
 "cells": [
  {
   "cell_type": "code",
   "execution_count": null,
   "metadata": {},
   "outputs": [],
   "source": [
    "\n"
   ]
  },
  {
   "cell_type": "markdown",
   "metadata": {},
   "source": [
    "# Get started in 5 minutes"
   ]
  },
  {
   "cell_type": "markdown",
   "metadata": {},
   "source": [
    "## Get `ABSESpy` running"
   ]
  },
  {
   "cell_type": "markdown",
   "metadata": {},
   "source": [
    "<div class=\"admonition note\">\n",
    "    <p class=\"admonition-title\">In progress</p>\n",
    "    <p>This document is a work in progress if you see any errors, or exclusions or have any problems, please <a href=\"https://github.com/SongshGeoLab/ABSESpy/issues\">get in touch with us</a>.</p>\n",
    "</div>"
   ]
  },
  {
   "cell_type": "markdown",
   "metadata": {},
   "source": [
    "<!-- 我们假设你已经成功安装了`ABSESpy`及其所有依赖项，并正确配置了环境，可以在你的工作环境中导入这个库了。那么运行起来第一个什么也不做的空模型将非常简单，你只需要导入、创建、运行... -->\n",
    "\n",
    "Assuming you've successfully installed `ABSESpy`, along with all its dependencies, and properly configured the environment to import the module into your workspace. Running the first blank model that performs no action is straightforward - simply import, initialize, and run..."
   ]
  },
  {
   "cell_type": "code",
   "execution_count": 1,
   "metadata": {
    "execution": {
     "iopub.execute_input": "2025-10-15T19:19:08.867165Z",
     "iopub.status.busy": "2025-10-15T19:19:08.866896Z",
     "iopub.status.idle": "2025-10-15T19:19:11.458040Z",
     "shell.execute_reply": "2025-10-15T19:19:11.457794Z"
    }
   },
   "outputs": [],
   "source": [
    "# %pip install abses\n",
    "\n",
    "from abses import MainModel"
   ]
  },
  {
   "cell_type": "code",
   "execution_count": 2,
   "metadata": {
    "execution": {
     "iopub.execute_input": "2025-10-15T19:19:11.459718Z",
     "iopub.status.busy": "2025-10-15T19:19:11.459505Z",
     "iopub.status.idle": "2025-10-15T19:19:11.468368Z",
     "shell.execute_reply": "2025-10-15T19:19:11.468105Z"
    }
   },
   "outputs": [],
   "source": [
    "# Initialize a model instance\n",
    "model = MainModel()\n",
    "\n",
    "# You can check state of the model by `.summary()`.\n",
    "# model.summary()  # Method removed in 0.8.0"
   ]
  },
  {
   "cell_type": "code",
   "execution_count": 3,
   "metadata": {
    "execution": {
     "iopub.execute_input": "2025-10-15T19:19:11.469593Z",
     "iopub.status.busy": "2025-10-15T19:19:11.469526Z",
     "iopub.status.idle": "2025-10-15T19:19:11.471061Z",
     "shell.execute_reply": "2025-10-15T19:19:11.470826Z"
    }
   },
   "outputs": [],
   "source": [
    "# run it for 5 steps.\n",
    "model.run_model(steps=5)"
   ]
  },
  {
   "cell_type": "markdown",
   "metadata": {},
   "source": [
    "## ABSESpy two basic modules"
   ]
  },
  {
   "cell_type": "markdown",
   "metadata": {},
   "source": [
    "<!-- 正如社会-生态系统这个名字所暗示的，模型通常包括了两个基本的子系统（子模块）：人类的和自然的。在 ABSESpy 构建的基本模型中，他们被命名为 BaseNature 和 BaseHuman -->\n",
    "\n",
    "![Diagram of Socio-ecological System](https://songshgeo-picgo-1302043007.cos.ap-beijing.myqcloud.com/uPic/ses.png)\n",
    "\n",
    "As the name \"socio-ecological system\" suggests, models usually include two basic subsystems (submodules): human and natural. They can be accessed through attributes `model.human` and `model.nature`.\n",
    "\n",
    "In the default model `MainModel` built by `ABSESpy`, they are `BaseNature` and `BaseHuman`."
   ]
  },
  {
   "cell_type": "code",
   "execution_count": 4,
   "metadata": {
    "execution": {
     "iopub.execute_input": "2025-10-15T19:19:11.472174Z",
     "iopub.status.busy": "2025-10-15T19:19:11.472103Z",
     "iopub.status.idle": "2025-10-15T19:19:11.474612Z",
     "shell.execute_reply": "2025-10-15T19:19:11.474398Z"
    }
   },
   "outputs": [
    {
     "data": {
      "text/plain": [
       "abses.human.human.BaseHuman"
      ]
     },
     "execution_count": 4,
     "metadata": {},
     "output_type": "execute_result"
    }
   ],
   "source": [
    "type(model.human)"
   ]
  },
  {
   "cell_type": "code",
   "execution_count": 5,
   "metadata": {
    "execution": {
     "iopub.execute_input": "2025-10-15T19:19:11.491133Z",
     "iopub.status.busy": "2025-10-15T19:19:11.491031Z",
     "iopub.status.idle": "2025-10-15T19:19:11.492896Z",
     "shell.execute_reply": "2025-10-15T19:19:11.492684Z"
    }
   },
   "outputs": [
    {
     "data": {
      "text/plain": [
       "abses.space.nature.BaseNature"
      ]
     },
     "execution_count": 5,
     "metadata": {},
     "output_type": "execute_result"
    }
   ],
   "source": [
    "type(model.nature)"
   ]
  },
  {
   "cell_type": "markdown",
   "metadata": {},
   "source": [
    "The default BaseNature and BaseHuman classes can be used to build custom classes that better reflect the needs of a particular application. In order to use a custom module must be passed to the `MainModel` constructor as keyword arguments `human` and `nature`."
   ]
  },
  {
   "cell_type": "code",
   "execution_count": 6,
   "metadata": {
    "execution": {
     "iopub.execute_input": "2025-10-15T19:19:11.494023Z",
     "iopub.status.busy": "2025-10-15T19:19:11.493958Z",
     "iopub.status.idle": "2025-10-15T19:19:11.496003Z",
     "shell.execute_reply": "2025-10-15T19:19:11.495766Z"
    }
   },
   "outputs": [],
   "source": [
    "from abses import BaseNature, BaseHuman\n",
    "\n",
    "\n",
    "class Nature(BaseNature):\n",
    "    \"\"\"A custom Nature module.\"\"\"\n",
    "\n",
    "    def step(self):\n",
    "        print(f\"Nature in the step {self.time.tick}\")\n",
    "\n",
    "\n",
    "class Human(BaseHuman):\n",
    "    \"\"\"A custom Human module.\"\"\"\n",
    "\n",
    "    def step(self):\n",
    "        print(f\"Human in the step  {self.time.tick}\")"
   ]
  },
  {
   "cell_type": "code",
   "execution_count": 7,
   "metadata": {
    "execution": {
     "iopub.execute_input": "2025-10-15T19:19:11.497067Z",
     "iopub.status.busy": "2025-10-15T19:19:11.496999Z",
     "iopub.status.idle": "2025-10-15T19:19:11.499474Z",
     "shell.execute_reply": "2025-10-15T19:19:11.499265Z"
    }
   },
   "outputs": [
    {
     "name": "stdout",
     "output_type": "stream",
     "text": [
      "Nature in the step 1\n",
      "Human in the step  1\n",
      "Nature in the step 2\n",
      "Human in the step  2\n",
      "Nature in the step 3\n",
      "Human in the step  3\n"
     ]
    }
   ],
   "source": [
    "model = MainModel(human_class=Human, nature_class=Nature)\n",
    "\n",
    "model.run_model(steps=3)"
   ]
  },
  {
   "cell_type": "markdown",
   "metadata": {},
   "source": [
    "ABSESpy will also log certain messages to allow a better, real-time understanding of the model's progression. "
   ]
  },
  {
   "cell_type": "code",
   "execution_count": 8,
   "metadata": {
    "execution": {
     "iopub.execute_input": "2025-10-15T19:19:11.501010Z",
     "iopub.status.busy": "2025-10-15T19:19:11.500936Z",
     "iopub.status.idle": "2025-10-15T19:19:11.504454Z",
     "shell.execute_reply": "2025-10-15T19:19:11.504233Z"
    }
   },
   "outputs": [
    {
     "name": "stderr",
     "output_type": "stream",
     "text": [
      "\u001b[32m2025-10-15 21:19:11.502\u001b[0m | \u001b[34m\u001b[1mDEBUG   \u001b[0m | \u001b[36mabses.agents.container\u001b[0m:\u001b[36mnew\u001b[0m:\u001b[36m252\u001b[0m - \u001b[34m\u001b[1m<Handling [5]Agents for MainModel> created 5 Actor.\u001b[0m\n"
     ]
    },
    {
     "name": "stderr",
     "output_type": "stream",
     "text": [
      "\u001b[32m2025-10-15 21:19:11.503\u001b[0m | \u001b[34m\u001b[1mDEBUG   \u001b[0m | \u001b[36mabses.agents.container\u001b[0m:\u001b[36mnew\u001b[0m:\u001b[36m252\u001b[0m - \u001b[34m\u001b[1m<Handling [6]Agents for MainModel> created 1 MyActor.\u001b[0m\n"
     ]
    },
    {
     "name": "stdout",
     "output_type": "stream",
     "text": [
      "Hello, world! I'm a new MyActor!\n",
      "<Handling [6]Agents for MainModel>\n"
     ]
    }
   ],
   "source": [
    "from abses import Actor, MainModel\n",
    "\n",
    "\n",
    "class MyActor(Actor):\n",
    "    \"\"\"A customized actor\"\"\"\n",
    "\n",
    "    def say_hi(self) -> str:\n",
    "        print(f\"Hello, world! I'm a new {self.breed}!\")\n",
    "\n",
    "\n",
    "model = MainModel()\n",
    "actors = model.agents.new(Actor, 5)\n",
    "my_actor = model.agents.new(MyActor, singleton=True)\n",
    "\n",
    "my_actor.say_hi()\n",
    "print(model.agents)"
   ]
  },
  {
   "cell_type": "code",
   "execution_count": 9,
   "metadata": {
    "execution": {
     "iopub.execute_input": "2025-10-15T19:19:11.505519Z",
     "iopub.status.busy": "2025-10-15T19:19:11.505451Z",
     "iopub.status.idle": "2025-10-15T19:19:11.514830Z",
     "shell.execute_reply": "2025-10-15T19:19:11.514618Z"
    }
   },
   "outputs": [
    {
     "name": "stderr",
     "output_type": "stream",
     "text": [
      "\u001b[32m2025-10-15 21:19:11.512\u001b[0m | \u001b[34m\u001b[1mDEBUG   \u001b[0m | \u001b[36mabses.agents.container\u001b[0m:\u001b[36mnew\u001b[0m:\u001b[36m252\u001b[0m - \u001b[34m\u001b[1m<Handling [5]Agents for MyModel> created 5 Actor.\u001b[0m\n"
     ]
    },
    {
     "name": "stderr",
     "output_type": "stream",
     "text": [
      "\u001b[32m2025-10-15 21:19:11.513\u001b[0m | \u001b[34m\u001b[1mDEBUG   \u001b[0m | \u001b[36mabses.agents.container\u001b[0m:\u001b[36mnew\u001b[0m:\u001b[36m252\u001b[0m - \u001b[34m\u001b[1m<Handling [6]Agents for MyModel> created 1 Actor.\u001b[0m\n"
     ]
    },
    {
     "name": "stdout",
     "output_type": "stream",
     "text": [
      "At step 1, there are 6 actors.\n"
     ]
    }
   ],
   "source": [
    "from abses import MainModel, Actor\n",
    "\n",
    "\n",
    "class MyModel(MainModel):\n",
    "    \"\"\"Customized model.\"\"\"\n",
    "\n",
    "    def setup(self):\n",
    "        n_agents = self.params.get(\"init_agents\")\n",
    "        self.agents.new(Actor, n_agents)\n",
    "\n",
    "    def step(self):\n",
    "        # `p` is a shortcut for `params`\n",
    "        n_agents = self.p.get(\"n_agents\")\n",
    "        self.agents.new(Actor, n_agents)\n",
    "\n",
    "    def end(self):\n",
    "        n_agents = len(self.agents)\n",
    "        print(f\"At step {self.time.tick}, there are {n_agents} actors.\")\n",
    "\n",
    "\n",
    "parameters = {\n",
    "    \"time\": {\n",
    "        \"start\": \"2000-01-01\",\n",
    "        \"end\": \"2003-03-21\",\n",
    "        \"months\": 8,\n",
    "        \"years\": 2,\n",
    "    },\n",
    "    \"model\": {\"init_agents\": 5, \"n_agents\": 1},\n",
    "}\n",
    "model = MyModel(parameters=parameters)\n",
    "model.run_model()"
   ]
  },
  {
   "cell_type": "code",
   "execution_count": 10,
   "metadata": {
    "execution": {
     "iopub.execute_input": "2025-10-15T19:19:11.515865Z",
     "iopub.status.busy": "2025-10-15T19:19:11.515794Z",
     "iopub.status.idle": "2025-10-15T19:19:11.517662Z",
     "shell.execute_reply": "2025-10-15T19:19:11.517461Z"
    }
   },
   "outputs": [
    {
     "data": {
      "text/plain": [
       "<[v0] MyModel(NEW)>"
      ]
     },
     "execution_count": 10,
     "metadata": {},
     "output_type": "execute_result"
    }
   ],
   "source": [
    "model  # .summary(verbose=True)  # Method removed in 0.8.0"
   ]
  }
 ],
 "metadata": {
  "kernelspec": {
   "display_name": ".venv",
   "language": "python",
   "name": "python3"
  },
  "language_info": {
   "codemirror_mode": {
    "name": "ipython",
    "version": 3
   },
   "file_extension": ".py",
   "mimetype": "text/x-python",
   "name": "python",
   "nbconvert_exporter": "python",
   "pygments_lexer": "ipython3",
   "version": "3.11.2"
  }
 },
 "nbformat": 4,
 "nbformat_minor": 2
}
